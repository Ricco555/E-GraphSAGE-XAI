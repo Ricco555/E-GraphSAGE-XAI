{
 "cells": [
  {
   "cell_type": "code",
   "execution_count": null,
   "id": "c0513f78",
   "metadata": {},
   "outputs": [
    {
     "ename": "ModuleNotFoundError",
     "evalue": "No module named 'model'",
     "output_type": "error",
     "traceback": [
      "\u001b[31m---------------------------------------------------------------------------\u001b[39m",
      "\u001b[31mModuleNotFoundError\u001b[39m                       Traceback (most recent call last)",
      "\u001b[36mCell\u001b[39m\u001b[36m \u001b[39m\u001b[32mIn[2]\u001b[39m\u001b[32m, line 26\u001b[39m\n\u001b[32m     23\u001b[39m hidden  = \u001b[32m128\u001b[39m  \u001b[38;5;66;03m# set to what you trained with\u001b[39;00m\n\u001b[32m     24\u001b[39m num_classes = \u001b[38;5;28mlen\u001b[39m(label2id)\n\u001b[32m---> \u001b[39m\u001b[32m26\u001b[39m \u001b[38;5;28;01mfrom\u001b[39;00m\u001b[38;5;250m \u001b[39m\u001b[34;01mmodel\u001b[39;00m\u001b[38;5;250m \u001b[39m\u001b[38;5;28;01mimport\u001b[39;00m SageEdgeClassifier  \u001b[38;5;66;03m# your class\u001b[39;00m\n\u001b[32m     27\u001b[39m model = SageEdgeClassifier(node_in=\u001b[32m0\u001b[39m, edge_in=edge_in, hidden=hidden, num_classes=num_classes, dropout=\u001b[32m0.2\u001b[39m).to(device)\n\u001b[32m     28\u001b[39m model.load_state_dict(torch.load(\u001b[33m\"\u001b[39m\u001b[33martifacts/best_edge_sage.pt\u001b[39m\u001b[33m\"\u001b[39m, map_location=device))\n",
      "\u001b[31mModuleNotFoundError\u001b[39m: No module named 'model'"
     ]
    }
   ],
   "source": [
    "import os, json, joblib, dgl, torch\n",
    "import numpy as np\n",
    "from feature_store import fetch_edge_features\n",
    "from eval_utils import make_eval_loader\n",
    "from eval_infer import infer_split\n",
    "from eval_metrics import compute_metrics\n",
    "from eval_roc import plot_roc_ovr, false_negatives_by_class\n",
    "\n",
    "device = \"cuda\" if torch.cuda.is_available() else \"cpu\"\n",
    "\n",
    "# Load artifacts\n",
    "g_val = dgl.load_graphs(\"graphs/val.bin\")[0][0]\n",
    "fs_val = \"feature_store/val\"\n",
    "\n",
    "# label map\n",
    "with open(\"artifacts/label_map.json\",\"r\",encoding=\"utf-8\") as f:\n",
    "    label2id = json.load(f)\n",
    "id2label = {v:k for k,v in label2id.items()}\n",
    "classes  = [id2label[i] for i in range(len(label2id))]\n",
    "\n",
    "# Rebuild the model (must match your training config)\n",
    "edge_in = fetch_edge_features(np.load(os.path.join(fs_val,\"edge_indices.npy\"))[:1], fs_val).shape[1]\n",
    "hidden  = 128  # set to what you trained with\n",
    "num_classes = len(label2id)\n",
    "\n",
    "from train_edgecls_dbg import _FallbackEdgeGraphSAGE  # your class\n",
    "model = _FallbackEdgeGraphSAGE(node_in=0, edge_in=edge_in, hidden=hidden, num_classes=num_classes, dropout=0.3).to(device)\n",
    "model.load_state_dict(torch.load(\"artifacts/best_edge_sage.pt\", map_location=device))\n",
    "model.eval()\n",
    "\n",
    "# Build loader for VAL\n",
    "val_loader = make_eval_loader(g_val, fs_val, fanouts=(25,15), batch_size=2048)\n",
    "\n",
    "# Inference\n",
    "y_true, y_pred, y_prob = infer_split(model, val_loader, g_val, device, fetch_edge_features)\n",
    "\n",
    "# Metrics\n",
    "metrics = compute_metrics(y_true, y_pred, label2id)\n",
    "print(json.dumps({\n",
    "    \"accuracy\": metrics[\"accuracy\"],\n",
    "    \"macro\": metrics[\"macro\"],\n",
    "    \"macro_FAR\": metrics[\"macro_FAR\"]\n",
    "}, indent=2))\n",
    "# Confusion Matrix & FN\n",
    "cm = np.array(metrics[\"confusion_matrix\"])\n",
    "fn_by_class = false_negatives_by_class(cm, classes)\n",
    "print(\"False negatives by class:\", fn_by_class)\n",
    "\n",
    "# Save metrics\n",
    "os.makedirs(\"artifacts\", exist_ok=True)\n",
    "with open(\"artifacts/metrics_val.json\",\"w\") as f:\n",
    "    json.dump(metrics, f, indent=2)\n",
    "\n",
    "# ROC curves\n",
    "plot_roc_ovr(y_true, y_prob, classes, out_path=\"artifacts/roc_val.png\")\n"
   ]
  }
 ],
 "metadata": {
  "kernelspec": {
   "display_name": ".venv",
   "language": "python",
   "name": "python3"
  },
  "language_info": {
   "codemirror_mode": {
    "name": "ipython",
    "version": 3
   },
   "file_extension": ".py",
   "mimetype": "text/x-python",
   "name": "python",
   "nbconvert_exporter": "python",
   "pygments_lexer": "ipython3",
   "version": "3.13.9"
  }
 },
 "nbformat": 4,
 "nbformat_minor": 5
}
