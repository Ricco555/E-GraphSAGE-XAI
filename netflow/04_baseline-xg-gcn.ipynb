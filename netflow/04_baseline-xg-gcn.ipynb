{
 "cells": [
  {
   "cell_type": "markdown",
   "id": "a07015ba",
   "metadata": {},
   "source": [
    "# Comparative Baselines\n",
    "WIll be used to compare our model\n",
    "We will use same temporal split of initial dataset. Thus making sure we do not train on future data."
   ]
  },
  {
   "cell_type": "code",
   "execution_count": 1,
   "id": "b7096223",
   "metadata": {},
   "outputs": [],
   "source": [
    "# Import all paths and helpers from before\n",
    "import os, json, joblib, numpy as np, scipy.sparse as sp\n",
    "import torch, dgl\n",
    "from sklearn.metrics import classification_report, f1_score, confusion_matrix, accuracy_score, precision_recall_fscore_support\n",
    "from pathlib import Path\n",
    "\n",
    "# Reuse project modules\n",
    "from feature_store import fetch_edge_features\n",
    "from eval_utils import make_eval_loader, map_store_global_to_graph_local   # eval dataloader & mapping\n",
    "from eval_infer import infer_split                                         # logits->probs for GCN baseline\n",
    "from eval_metrics import compute_metrics                                   # macro metrics & FAR\n",
    "from eval_roc import plot_roc_ovr, false_negatives_by_class                # optional plots\n",
    "\n",
    "device = \"cuda\" if torch.cuda.is_available() else \"cpu\"\n",
    "\n",
    "FS_TRAIN = \"feature_store/train\"\n",
    "FS_VAL   = \"feature_store/val\"\n",
    "GRAPH_TRAIN = \"graphs/train.bin\"\n",
    "GRAPH_VAL   = \"graphs/val.bin\"\n",
    "\n",
    "# label map\n",
    "with open(\"artifacts/label_map.json\",\"r\",encoding=\"utf-8\") as f:\n",
    "    label2id = json.load(f)\n",
    "id2label = {v:k for k,v in label2id.items()}\n",
    "classes  = [id2label[i] for i in range(len(id2label))]\n",
    "num_classes = len(classes)"
   ]
  },
  {
   "cell_type": "markdown",
   "id": "9ed1b5c8",
   "metadata": {},
   "source": [
    "# 1. XGBoost baseline\n"
   ]
  },
  {
   "cell_type": "code",
   "execution_count": 2,
   "id": "6780d3dc",
   "metadata": {},
   "outputs": [],
   "source": [
    "# Load validation graph and create eval dataloader\n",
    "# parameters\n",
    "fanouts=(25,15)\n",
    "batch_size=2048\n",
    "g_val = dgl.load_graphs(GRAPH_VAL)[0][0]\n",
    "val_loader = make_eval_loader(g_val, FS_VAL, fanouts=fanouts, batch_size=batch_size)"
   ]
  },
  {
   "cell_type": "markdown",
   "id": "a1233a9f",
   "metadata": {},
   "source": [
    "## Assemble training features for XGB\n",
    "\n",
    "Two modes to choose from — depending on memory:\n",
    "1) Fast/Light: stratified downsample from train split (e.g., 50k–200k edges), 601 features → fits in RAM\n",
    "2) Full: using QuantileDMatrix, that we will use on a GPU with lots of RAM (optional)"
   ]
  },
  {
   "cell_type": "code",
   "execution_count": 3,
   "id": "4266ceef",
   "metadata": {},
   "outputs": [
    {
     "name": "stdout",
     "output_type": "stream",
     "text": [
      "X_train: (82459, 601) y_train: (82459,) classes: 10\n"
     ]
    }
   ],
   "source": [
    "rng = np.random.default_rng(42)\n",
    "\n",
    "# Load split ids & labels from store/graph\n",
    "g_train = dgl.load_graphs(GRAPH_TRAIN)[0][0]\n",
    "y_train_all = g_train.edata[\"y\"].cpu().numpy()\n",
    "store_train_eids = np.load(os.path.join(FS_TRAIN, \"edge_indices.npy\")).astype(np.int64)\n",
    "\n",
    "# Stratified sample per class\n",
    "per_class = 40000   # adjust to 10k–100k depending on RAM\n",
    "sample_idx = []\n",
    "for c in range(num_classes):\n",
    "    idx_c = np.where(y_train_all == c)[0]\n",
    "    if idx_c.size == 0: \n",
    "        continue\n",
    "    take = min(per_class, idx_c.size)\n",
    "    sample_idx.append(rng.choice(idx_c, size=take, replace=False))\n",
    "sample_idx = np.concatenate(sample_idx, axis=0)\n",
    "\n",
    "# Fetch features (GLOBAL ids) and labels\n",
    "global_ids = g_train.edata[dgl.EID][torch.from_numpy(sample_idx)].cpu().numpy().astype(np.int64)\n",
    "X_train = fetch_edge_features(global_ids, FS_TRAIN).astype(np.float32, copy=False)\n",
    "y_train = y_train_all[sample_idx].astype(np.int32)\n",
    "\n",
    "print(\"X_train:\", X_train.shape, \"y_train:\", y_train.shape, \"classes:\", np.unique(y_train).size)"
   ]
  },
  {
   "cell_type": "markdown",
   "id": "d269aaa9",
   "metadata": {},
   "source": [
    "## Build validation vectors for XGB\n"
   ]
  },
  {
   "cell_type": "code",
   "execution_count": 4,
   "id": "2289ae9c",
   "metadata": {},
   "outputs": [
    {
     "name": "stderr",
     "output_type": "stream",
     "text": [
      "c:\\Users\\riko.lusa\\src\\phd-i4sec\\.venv\\Lib\\site-packages\\dgl\\dataloading\\dataloader.py:1144: DGLWarning: Dataloader CPU affinity opt is not enabled, consider switching it on (see enable_cpu_affinity() or CPU best practices for DGL [https://docs.dgl.ai/tutorials/cpu/cpu_best_practises.html])\n",
      "  dgl_warning(\n"
     ]
    },
    {
     "name": "stdout",
     "output_type": "stream",
     "text": [
      "X_val: (709628, 601) y_val: (709628,)\n"
     ]
    }
   ],
   "source": [
    "# We reuse val_loader to pull batches of GLOBAL EIDs and stack\n",
    "X_val_list, y_val_list = [], []\n",
    "with torch.no_grad():\n",
    "    for input_nodes, pair_graph, blocks in val_loader:\n",
    "        local_eids = pair_graph.edata[dgl.EID].cpu().numpy().astype(np.int64)\n",
    "        global_eids = g_val.edata[dgl.EID][torch.from_numpy(local_eids)].cpu().numpy().astype(np.int64)\n",
    "        Xb = fetch_edge_features(global_eids, FS_VAL).astype(np.float32, copy=False)\n",
    "        yb = g_val.edata[\"y\"][torch.from_numpy(local_eids)].cpu().numpy().astype(np.int32)\n",
    "        # Drop unknown labels if any\n",
    "        keep = (yb >= 0)\n",
    "        if not np.all(keep):\n",
    "            Xb = Xb[keep]; yb = yb[keep]\n",
    "        X_val_list.append(Xb); y_val_list.append(yb)\n",
    "X_val = np.vstack(X_val_list)\n",
    "y_val = np.concatenate(y_val_list)\n",
    "print(\"X_val:\", X_val.shape, \"y_val:\", y_val.shape)"
   ]
  },
  {
   "cell_type": "markdown",
   "id": "346c68fa",
   "metadata": {},
   "source": [
    "## Train XGBoost & evaluate"
   ]
  },
  {
   "cell_type": "code",
   "execution_count": null,
   "id": "b2d946fe",
   "metadata": {},
   "outputs": [
    {
     "name": "stdout",
     "output_type": "stream",
     "text": [
      "{\n",
      "  \"model\": \"XGBoost\",\n",
      "  \"accuracy\": 0.9729238417875281,\n",
      "  \"macro\": {\n",
      "    \"precision\": 0.7357013078596328,\n",
      "    \"recall\": 0.5590091737708243,\n",
      "    \"f1\": 0.6064437954053495\n",
      "  },\n",
      "  \"macro_precision\": 0.7357013078596328,\n",
      "  \"macro_recall\": 0.5590091737708243,\n",
      "  \"macro_FAR\": 0.0027836347982209955\n",
      "}\n"
     ]
    },
    {
     "data": {
      "image/png": "[encoded data removed]",
      "text/plain": [
       "<Figure size 800x600 with 1 Axes>"
      ]
     },
     "metadata": {},
     "output_type": "display_data"
    }
   ],
   "source": [
    "import xgboost as xgb\n",
    "\n",
    "tree_method = \"hist\"\n",
    "\n",
    "xgb_model = xgb.XGBClassifier(\n",
    "    n_estimators=600,\n",
    "    max_depth=8,\n",
    "    learning_rate=0.05,\n",
    "    subsample=0.9,\n",
    "    colsample_bytree=0.9,\n",
    "    reg_lambda=1.0,\n",
    "    objective=\"multi:softprob\",\n",
    "    eval_metric=\"mlogloss\",\n",
    "    tree_method=tree_method,\n",
    "    device=device,\n",
    "    n_jobs= max(1, os.cpu_count()//2),\n",
    "    num_class=num_classes,\n",
    ")\n",
    "\n",
    "xgb_model.fit(X_train, y_train)\n",
    "y_prob_xgb = xgb_model.predict_proba(X_val)            # (N, C)\n",
    "y_pred_xgb = y_prob_xgb.argmax(axis=1)\n",
    "\n",
    "# Metrics (reuse your helper)\n",
    "metrics_xgb = compute_metrics(y_val, y_pred_xgb, label2id)\n",
    "\n",
    "macro = metrics_xgb.get(\"macro\", {})\n",
    "print(json.dumps({\n",
    "    \"model\": \"XGBoost\",\n",
    "    \"accuracy\": metrics_xgb.get(\"accuracy\"),\n",
    "    \"macro\": macro,\n",
    "    \"macro_FAR\": metrics_xgb.get(\"macro_FAR\")\n",
    "}, indent=2))\n",
    "\n",
    "with open(\"artifacts/metrics_xgb.json\", \"w\", encoding=\"utf-8\") as f:\n",
    "    json.dump({\"model\": \"XGBoost\", \"metrics\": metrics_xgb}, f, indent=2, ensure_ascii=False)\n",
    "# Optional ROC / CM\n",
    "plot_roc_ovr(y_val, y_prob_xgb, classes, out_path=\"artifacts/xgb_roc_val.png\")\n"
   ]
  },
  {
   "cell_type": "markdown",
   "id": "9bd61986",
   "metadata": {},
   "source": [
    "# 2. GCN Graph Baseline\n",
    "We will use same edge head as for GraphSAGE\n",
    "\n",
    "## Define a minimal GCN edge classifier"
   ]
  },
  {
   "cell_type": "code",
   "execution_count": null,
   "id": "1b130456",
   "metadata": {},
   "outputs": [],
   "source": [
    "# Minimal GCN baseline (2-layer GraphConv + edge MLP)\n",
    "import torch.nn as nn\n",
    "import torch.nn.functional as F\n",
    "import dgl.nn as dglnn\n",
    "\n",
    "class GCN_EdgeClassifier(nn.Module):\n",
    "    def __init__(self, node_in: int, edge_in: int, hidden: int, num_classes: int, dropout: float=0.3):\n",
    "        super().__init__()\n",
    "        self.node_in = node_in\n",
    "        if node_in > 0:\n",
    "            self.feat_proj = nn.Linear(node_in, hidden)\n",
    "        else:\n",
    "            self.feat_proj = nn.Linear(1, hidden)   # constant feature if no node feats\n",
    "\n",
    "        self.gcn1 = dglnn.GraphConv(hidden, hidden, norm=\"both\", weight=True, bias=True, allow_zero_in_degree=True, activation=F.relu)\n",
    "        self.gcn2 = dglnn.GraphConv(hidden, hidden, norm=\"both\", weight=True, bias=True, allow_zero_in_degree=True, activation=None)\n",
    "        self.dropout = nn.Dropout(dropout)\n",
    "\n",
    "        self.edge_mlp = nn.Sequential(\n",
    "            nn.Linear(2*hidden + edge_in, hidden),\n",
    "            nn.ReLU(),\n",
    "            nn.Dropout(dropout),\n",
    "            nn.Linear(hidden, num_classes),\n",
    "        )\n",
    "\n",
    "    @torch.no_grad()\n",
    "    def encode(self, blocks, x_nodes):\n",
    "        # Node features: if empty, use a constant 1 per node\n",
    "        if self.node_in > 0:\n",
    "            h = self.feat_proj(x_nodes)\n",
    "        else:\n",
    "            h = self.feat_proj(torch.ones((blocks[0].num_src_nodes(), 1), device=blocks[0].device))\n",
    "        h = self.gcn1(blocks[0], h)\n",
    "        h = self.dropout(h)\n",
    "        h = self.gcn2(blocks[1], h)  # (num_dst, hidden)\n",
    "        return h\n",
    "\n",
    "    def forward(self, blocks, x_nodes, pair_graph, e_feat):\n",
    "        h_dst = self.encode(blocks, x_nodes)\n",
    "        src_pos, dst_pos = pair_graph.edges()\n",
    "        he = torch.cat([h_dst[src_pos], h_dst[dst_pos]], dim=1)  # (B, 2*hidden)\n",
    "        logits = self.edge_mlp(torch.cat([he, e_feat], dim=1))\n",
    "        return logits"
   ]
  },
  {
   "cell_type": "markdown",
   "id": "524a2cab",
   "metadata": {},
   "source": [
    "## Create loaders for GCN baseline and eval"
   ]
  },
  {
   "cell_type": "code",
   "execution_count": 7,
   "id": "dfdb6076",
   "metadata": {},
   "outputs": [],
   "source": [
    "# Load graphs, loaders, and model for GCN baseline\n",
    "# parameters\n",
    "fanouts=(25,15)\n",
    "batch_size=2048\n",
    "hidden=128\n",
    "dropout=0.3\n",
    "\n",
    "edge_in = fetch_edge_features(np.load(os.path.join(FS_VAL, \"edge_indices.npy\"))[:1], FS_VAL).shape[1]\n",
    "\n",
    "g_train = dgl.load_graphs(GRAPH_TRAIN)[0][0]\n",
    "g_val   = dgl.load_graphs(GRAPH_VAL)[0][0]\n",
    "\n",
    "train_loader_gcn = make_eval_loader(g_train, FS_TRAIN, fanouts=fanouts, batch_size=batch_size)\n",
    "val_loader_gcn   = make_eval_loader(g_val,   FS_VAL,   fanouts=fanouts, batch_size=batch_size)\n",
    "\n",
    "model_gcn = GCN_EdgeClassifier(node_in=0, edge_in=edge_in, hidden=hidden, num_classes=num_classes, dropout=dropout).to(device)\n",
    "opt = torch.optim.Adam(model_gcn.parameters(), lr=3e-4, weight_decay=1e-4)\n",
    "criterion = nn.CrossEntropyLoss()\n"
   ]
  },
  {
   "cell_type": "code",
   "execution_count": 8,
   "id": "00cf4f07",
   "metadata": {},
   "outputs": [
    {
     "name": "stderr",
     "output_type": "stream",
     "text": [
      "c:\\Users\\riko.lusa\\src\\phd-i4sec\\.venv\\Lib\\site-packages\\dgl\\dataloading\\dataloader.py:1144: DGLWarning: Dataloader CPU affinity opt is not enabled, consider switching it on (see enable_cpu_affinity() or CPU best practices for DGL [https://docs.dgl.ai/tutorials/cpu/cpu_best_practises.html])\n",
      "  dgl_warning(\n"
     ]
    },
    {
     "ename": "DGLError",
     "evalue": "There are 0-in-degree nodes in the graph, output for those nodes will be invalid. This is harmful for some applications, causing silent performance regression. Adding self-loop on the input graph by calling `g = dgl.add_self_loop(g)` will resolve the issue. Setting ``allow_zero_in_degree`` to be `True` when constructing this module will suppress the check and let the code run.",
     "output_type": "error",
     "traceback": [
      "\u001b[31m---------------------------------------------------------------------------\u001b[39m",
      "\u001b[31mDGLError\u001b[39m                                  Traceback (most recent call last)",
      "\u001b[36mCell\u001b[39m\u001b[36m \u001b[39m\u001b[32mIn[8]\u001b[39m\u001b[32m, line 47\u001b[39m\n\u001b[32m     45\u001b[39m \u001b[38;5;66;03m# Train 10 epochs (baseline)\u001b[39;00m\n\u001b[32m     46\u001b[39m \u001b[38;5;28;01mfor\u001b[39;00m epoch \u001b[38;5;129;01min\u001b[39;00m \u001b[38;5;28mrange\u001b[39m(\u001b[32m1\u001b[39m, epochs+\u001b[32m1\u001b[39m):\n\u001b[32m---> \u001b[39m\u001b[32m47\u001b[39m     tr_loss, tr_acc = \u001b[43mrun_epoch_gcn\u001b[49m\u001b[43m(\u001b[49m\u001b[43mmodel_gcn\u001b[49m\u001b[43m,\u001b[49m\u001b[43m \u001b[49m\u001b[43mtrain_loader_gcn\u001b[49m\u001b[43m,\u001b[49m\u001b[43m \u001b[49m\u001b[43mg_train\u001b[49m\u001b[43m,\u001b[49m\u001b[43m \u001b[49m\u001b[43mFS_TRAIN\u001b[49m\u001b[43m,\u001b[49m\u001b[43m \u001b[49m\u001b[43mdevice\u001b[49m\u001b[43m,\u001b[49m\u001b[43m \u001b[49m\u001b[43mopt\u001b[49m\u001b[43m)\u001b[49m\n\u001b[32m     48\u001b[39m     \u001b[38;5;28mprint\u001b[39m(\u001b[33mf\u001b[39m\u001b[33m\"\u001b[39m\u001b[33mEpoch \u001b[39m\u001b[38;5;132;01m{\u001b[39;00mepoch\u001b[38;5;132;01m}\u001b[39;00m\u001b[33m train loss=\u001b[39m\u001b[38;5;132;01m{\u001b[39;00mtr_loss\u001b[38;5;132;01m:\u001b[39;00m\u001b[33m.4f\u001b[39m\u001b[38;5;132;01m}\u001b[39;00m\u001b[33m acc=\u001b[39m\u001b[38;5;132;01m{\u001b[39;00mtr_acc\u001b[38;5;132;01m:\u001b[39;00m\u001b[33m.4f\u001b[39m\u001b[38;5;132;01m}\u001b[39;00m\u001b[33m\"\u001b[39m)\n",
      "\u001b[36mCell\u001b[39m\u001b[36m \u001b[39m\u001b[32mIn[8]\u001b[39m\u001b[32m, line 30\u001b[39m, in \u001b[36mrun_epoch_gcn\u001b[39m\u001b[34m(model, loader, g, split_dir, device, opt)\u001b[39m\n\u001b[32m     27\u001b[39m     \u001b[38;5;28;01mif\u001b[39;00m y.numel() == \u001b[32m0\u001b[39m: \n\u001b[32m     28\u001b[39m         \u001b[38;5;28;01mcontinue\u001b[39;00m\n\u001b[32m---> \u001b[39m\u001b[32m30\u001b[39m logits = \u001b[43mmodel\u001b[49m\u001b[43m(\u001b[49m\u001b[43mblocks\u001b[49m\u001b[43m,\u001b[49m\u001b[43m \u001b[49m\u001b[43mx_nodes\u001b[49m\u001b[43m,\u001b[49m\u001b[43m \u001b[49m\u001b[43mpair_graph\u001b[49m\u001b[43m,\u001b[49m\u001b[43m \u001b[49m\u001b[43mx_edge\u001b[49m\u001b[43m)\u001b[49m\n\u001b[32m     31\u001b[39m loss = criterion(logits, y)\n\u001b[32m     33\u001b[39m \u001b[38;5;28;01mif\u001b[39;00m opt \u001b[38;5;129;01mis\u001b[39;00m \u001b[38;5;129;01mnot\u001b[39;00m \u001b[38;5;28;01mNone\u001b[39;00m:\n",
      "\u001b[36mFile \u001b[39m\u001b[32mc:\\Users\\riko.lusa\\src\\phd-i4sec\\.venv\\Lib\\site-packages\\torch\\nn\\modules\\module.py:1773\u001b[39m, in \u001b[36mModule._wrapped_call_impl\u001b[39m\u001b[34m(self, *args, **kwargs)\u001b[39m\n\u001b[32m   1771\u001b[39m     \u001b[38;5;28;01mreturn\u001b[39;00m \u001b[38;5;28mself\u001b[39m._compiled_call_impl(*args, **kwargs)  \u001b[38;5;66;03m# type: ignore[misc]\u001b[39;00m\n\u001b[32m   1772\u001b[39m \u001b[38;5;28;01melse\u001b[39;00m:\n\u001b[32m-> \u001b[39m\u001b[32m1773\u001b[39m     \u001b[38;5;28;01mreturn\u001b[39;00m \u001b[38;5;28;43mself\u001b[39;49m\u001b[43m.\u001b[49m\u001b[43m_call_impl\u001b[49m\u001b[43m(\u001b[49m\u001b[43m*\u001b[49m\u001b[43margs\u001b[49m\u001b[43m,\u001b[49m\u001b[43m \u001b[49m\u001b[43m*\u001b[49m\u001b[43m*\u001b[49m\u001b[43mkwargs\u001b[49m\u001b[43m)\u001b[49m\n",
      "\u001b[36mFile \u001b[39m\u001b[32mc:\\Users\\riko.lusa\\src\\phd-i4sec\\.venv\\Lib\\site-packages\\torch\\nn\\modules\\module.py:1784\u001b[39m, in \u001b[36mModule._call_impl\u001b[39m\u001b[34m(self, *args, **kwargs)\u001b[39m\n\u001b[32m   1779\u001b[39m \u001b[38;5;66;03m# If we don't have any hooks, we want to skip the rest of the logic in\u001b[39;00m\n\u001b[32m   1780\u001b[39m \u001b[38;5;66;03m# this function, and just call forward.\u001b[39;00m\n\u001b[32m   1781\u001b[39m \u001b[38;5;28;01mif\u001b[39;00m \u001b[38;5;129;01mnot\u001b[39;00m (\u001b[38;5;28mself\u001b[39m._backward_hooks \u001b[38;5;129;01mor\u001b[39;00m \u001b[38;5;28mself\u001b[39m._backward_pre_hooks \u001b[38;5;129;01mor\u001b[39;00m \u001b[38;5;28mself\u001b[39m._forward_hooks \u001b[38;5;129;01mor\u001b[39;00m \u001b[38;5;28mself\u001b[39m._forward_pre_hooks\n\u001b[32m   1782\u001b[39m         \u001b[38;5;129;01mor\u001b[39;00m _global_backward_pre_hooks \u001b[38;5;129;01mor\u001b[39;00m _global_backward_hooks\n\u001b[32m   1783\u001b[39m         \u001b[38;5;129;01mor\u001b[39;00m _global_forward_hooks \u001b[38;5;129;01mor\u001b[39;00m _global_forward_pre_hooks):\n\u001b[32m-> \u001b[39m\u001b[32m1784\u001b[39m     \u001b[38;5;28;01mreturn\u001b[39;00m \u001b[43mforward_call\u001b[49m\u001b[43m(\u001b[49m\u001b[43m*\u001b[49m\u001b[43margs\u001b[49m\u001b[43m,\u001b[49m\u001b[43m \u001b[49m\u001b[43m*\u001b[49m\u001b[43m*\u001b[49m\u001b[43mkwargs\u001b[49m\u001b[43m)\u001b[49m\n\u001b[32m   1786\u001b[39m result = \u001b[38;5;28;01mNone\u001b[39;00m\n\u001b[32m   1787\u001b[39m called_always_called_hooks = \u001b[38;5;28mset\u001b[39m()\n",
      "\u001b[36mCell\u001b[39m\u001b[36m \u001b[39m\u001b[32mIn[6]\u001b[39m\u001b[32m, line 39\u001b[39m, in \u001b[36mGCN_EdgeClassifier.forward\u001b[39m\u001b[34m(self, blocks, x_nodes, pair_graph, e_feat)\u001b[39m\n\u001b[32m     38\u001b[39m \u001b[38;5;28;01mdef\u001b[39;00m\u001b[38;5;250m \u001b[39m\u001b[34mforward\u001b[39m(\u001b[38;5;28mself\u001b[39m, blocks, x_nodes, pair_graph, e_feat):\n\u001b[32m---> \u001b[39m\u001b[32m39\u001b[39m     h_dst = \u001b[38;5;28;43mself\u001b[39;49m\u001b[43m.\u001b[49m\u001b[43mencode\u001b[49m\u001b[43m(\u001b[49m\u001b[43mblocks\u001b[49m\u001b[43m,\u001b[49m\u001b[43m \u001b[49m\u001b[43mx_nodes\u001b[49m\u001b[43m)\u001b[49m\n\u001b[32m     40\u001b[39m     src_pos, dst_pos = pair_graph.edges()\n\u001b[32m     41\u001b[39m     he = torch.cat([h_dst[src_pos], h_dst[dst_pos]], dim=\u001b[32m1\u001b[39m)  \u001b[38;5;66;03m# (B, 2*hidden)\u001b[39;00m\n",
      "\u001b[36mFile \u001b[39m\u001b[32mc:\\Users\\riko.lusa\\src\\phd-i4sec\\.venv\\Lib\\site-packages\\torch\\utils\\_contextlib.py:120\u001b[39m, in \u001b[36mcontext_decorator.<locals>.decorate_context\u001b[39m\u001b[34m(*args, **kwargs)\u001b[39m\n\u001b[32m    117\u001b[39m \u001b[38;5;129m@functools\u001b[39m.wraps(func)\n\u001b[32m    118\u001b[39m \u001b[38;5;28;01mdef\u001b[39;00m\u001b[38;5;250m \u001b[39m\u001b[34mdecorate_context\u001b[39m(*args, **kwargs):\n\u001b[32m    119\u001b[39m     \u001b[38;5;28;01mwith\u001b[39;00m ctx_factory():\n\u001b[32m--> \u001b[39m\u001b[32m120\u001b[39m         \u001b[38;5;28;01mreturn\u001b[39;00m \u001b[43mfunc\u001b[49m\u001b[43m(\u001b[49m\u001b[43m*\u001b[49m\u001b[43margs\u001b[49m\u001b[43m,\u001b[49m\u001b[43m \u001b[49m\u001b[43m*\u001b[49m\u001b[43m*\u001b[49m\u001b[43mkwargs\u001b[49m\u001b[43m)\u001b[49m\n",
      "\u001b[36mCell\u001b[39m\u001b[36m \u001b[39m\u001b[32mIn[6]\u001b[39m\u001b[32m, line 33\u001b[39m, in \u001b[36mGCN_EdgeClassifier.encode\u001b[39m\u001b[34m(self, blocks, x_nodes)\u001b[39m\n\u001b[32m     31\u001b[39m \u001b[38;5;28;01melse\u001b[39;00m:\n\u001b[32m     32\u001b[39m     h = \u001b[38;5;28mself\u001b[39m.feat_proj(torch.ones((blocks[\u001b[32m0\u001b[39m].num_src_nodes(), \u001b[32m1\u001b[39m), device=blocks[\u001b[32m0\u001b[39m].device))\n\u001b[32m---> \u001b[39m\u001b[32m33\u001b[39m h = \u001b[38;5;28;43mself\u001b[39;49m\u001b[43m.\u001b[49m\u001b[43mgcn1\u001b[49m\u001b[43m(\u001b[49m\u001b[43mblocks\u001b[49m\u001b[43m[\u001b[49m\u001b[32;43m0\u001b[39;49m\u001b[43m]\u001b[49m\u001b[43m,\u001b[49m\u001b[43m \u001b[49m\u001b[43mh\u001b[49m\u001b[43m)\u001b[49m\n\u001b[32m     34\u001b[39m h = \u001b[38;5;28mself\u001b[39m.dropout(h)\n\u001b[32m     35\u001b[39m h = \u001b[38;5;28mself\u001b[39m.gcn2(blocks[\u001b[32m1\u001b[39m], h)  \u001b[38;5;66;03m# (num_dst, hidden)\u001b[39;00m\n",
      "\u001b[36mFile \u001b[39m\u001b[32mc:\\Users\\riko.lusa\\src\\phd-i4sec\\.venv\\Lib\\site-packages\\torch\\nn\\modules\\module.py:1773\u001b[39m, in \u001b[36mModule._wrapped_call_impl\u001b[39m\u001b[34m(self, *args, **kwargs)\u001b[39m\n\u001b[32m   1771\u001b[39m     \u001b[38;5;28;01mreturn\u001b[39;00m \u001b[38;5;28mself\u001b[39m._compiled_call_impl(*args, **kwargs)  \u001b[38;5;66;03m# type: ignore[misc]\u001b[39;00m\n\u001b[32m   1772\u001b[39m \u001b[38;5;28;01melse\u001b[39;00m:\n\u001b[32m-> \u001b[39m\u001b[32m1773\u001b[39m     \u001b[38;5;28;01mreturn\u001b[39;00m \u001b[38;5;28;43mself\u001b[39;49m\u001b[43m.\u001b[49m\u001b[43m_call_impl\u001b[49m\u001b[43m(\u001b[49m\u001b[43m*\u001b[49m\u001b[43margs\u001b[49m\u001b[43m,\u001b[49m\u001b[43m \u001b[49m\u001b[43m*\u001b[49m\u001b[43m*\u001b[49m\u001b[43mkwargs\u001b[49m\u001b[43m)\u001b[49m\n",
      "\u001b[36mFile \u001b[39m\u001b[32mc:\\Users\\riko.lusa\\src\\phd-i4sec\\.venv\\Lib\\site-packages\\torch\\nn\\modules\\module.py:1784\u001b[39m, in \u001b[36mModule._call_impl\u001b[39m\u001b[34m(self, *args, **kwargs)\u001b[39m\n\u001b[32m   1779\u001b[39m \u001b[38;5;66;03m# If we don't have any hooks, we want to skip the rest of the logic in\u001b[39;00m\n\u001b[32m   1780\u001b[39m \u001b[38;5;66;03m# this function, and just call forward.\u001b[39;00m\n\u001b[32m   1781\u001b[39m \u001b[38;5;28;01mif\u001b[39;00m \u001b[38;5;129;01mnot\u001b[39;00m (\u001b[38;5;28mself\u001b[39m._backward_hooks \u001b[38;5;129;01mor\u001b[39;00m \u001b[38;5;28mself\u001b[39m._backward_pre_hooks \u001b[38;5;129;01mor\u001b[39;00m \u001b[38;5;28mself\u001b[39m._forward_hooks \u001b[38;5;129;01mor\u001b[39;00m \u001b[38;5;28mself\u001b[39m._forward_pre_hooks\n\u001b[32m   1782\u001b[39m         \u001b[38;5;129;01mor\u001b[39;00m _global_backward_pre_hooks \u001b[38;5;129;01mor\u001b[39;00m _global_backward_hooks\n\u001b[32m   1783\u001b[39m         \u001b[38;5;129;01mor\u001b[39;00m _global_forward_hooks \u001b[38;5;129;01mor\u001b[39;00m _global_forward_pre_hooks):\n\u001b[32m-> \u001b[39m\u001b[32m1784\u001b[39m     \u001b[38;5;28;01mreturn\u001b[39;00m \u001b[43mforward_call\u001b[49m\u001b[43m(\u001b[49m\u001b[43m*\u001b[49m\u001b[43margs\u001b[49m\u001b[43m,\u001b[49m\u001b[43m \u001b[49m\u001b[43m*\u001b[49m\u001b[43m*\u001b[49m\u001b[43mkwargs\u001b[49m\u001b[43m)\u001b[49m\n\u001b[32m   1786\u001b[39m result = \u001b[38;5;28;01mNone\u001b[39;00m\n\u001b[32m   1787\u001b[39m called_always_called_hooks = \u001b[38;5;28mset\u001b[39m()\n",
      "\u001b[36mFile \u001b[39m\u001b[32mc:\\Users\\riko.lusa\\src\\phd-i4sec\\.venv\\Lib\\site-packages\\dgl\\nn\\pytorch\\conv\\graphconv.py:408\u001b[39m, in \u001b[36mGraphConv.forward\u001b[39m\u001b[34m(self, graph, feat, weight, edge_weight)\u001b[39m\n\u001b[32m    406\u001b[39m \u001b[38;5;28;01mif\u001b[39;00m \u001b[38;5;129;01mnot\u001b[39;00m \u001b[38;5;28mself\u001b[39m._allow_zero_in_degree:\n\u001b[32m    407\u001b[39m     \u001b[38;5;28;01mif\u001b[39;00m (graph.in_degrees() == \u001b[32m0\u001b[39m).any():\n\u001b[32m--> \u001b[39m\u001b[32m408\u001b[39m         \u001b[38;5;28;01mraise\u001b[39;00m DGLError(\n\u001b[32m    409\u001b[39m             \u001b[33m\"\u001b[39m\u001b[33mThere are 0-in-degree nodes in the graph, \u001b[39m\u001b[33m\"\u001b[39m\n\u001b[32m    410\u001b[39m             \u001b[33m\"\u001b[39m\u001b[33moutput for those nodes will be invalid. \u001b[39m\u001b[33m\"\u001b[39m\n\u001b[32m    411\u001b[39m             \u001b[33m\"\u001b[39m\u001b[33mThis is harmful for some applications, \u001b[39m\u001b[33m\"\u001b[39m\n\u001b[32m    412\u001b[39m             \u001b[33m\"\u001b[39m\u001b[33mcausing silent performance regression. \u001b[39m\u001b[33m\"\u001b[39m\n\u001b[32m    413\u001b[39m             \u001b[33m\"\u001b[39m\u001b[33mAdding self-loop on the input graph by \u001b[39m\u001b[33m\"\u001b[39m\n\u001b[32m    414\u001b[39m             \u001b[33m\"\u001b[39m\u001b[33mcalling `g = dgl.add_self_loop(g)` will resolve \u001b[39m\u001b[33m\"\u001b[39m\n\u001b[32m    415\u001b[39m             \u001b[33m\"\u001b[39m\u001b[33mthe issue. Setting ``allow_zero_in_degree`` \u001b[39m\u001b[33m\"\u001b[39m\n\u001b[32m    416\u001b[39m             \u001b[33m\"\u001b[39m\u001b[33mto be `True` when constructing this module will \u001b[39m\u001b[33m\"\u001b[39m\n\u001b[32m    417\u001b[39m             \u001b[33m\"\u001b[39m\u001b[33msuppress the check and let the code run.\u001b[39m\u001b[33m\"\u001b[39m\n\u001b[32m    418\u001b[39m         )\n\u001b[32m    419\u001b[39m aggregate_fn = fn.copy_u(\u001b[33m\"\u001b[39m\u001b[33mh\u001b[39m\u001b[33m\"\u001b[39m, \u001b[33m\"\u001b[39m\u001b[33mm\u001b[39m\u001b[33m\"\u001b[39m)\n\u001b[32m    420\u001b[39m \u001b[38;5;28;01mif\u001b[39;00m edge_weight \u001b[38;5;129;01mis\u001b[39;00m \u001b[38;5;129;01mnot\u001b[39;00m \u001b[38;5;28;01mNone\u001b[39;00m:\n",
      "\u001b[31mDGLError\u001b[39m: There are 0-in-degree nodes in the graph, output for those nodes will be invalid. This is harmful for some applications, causing silent performance regression. Adding self-loop on the input graph by calling `g = dgl.add_self_loop(g)` will resolve the issue. Setting ``allow_zero_in_degree`` to be `True` when constructing this module will suppress the check and let the code run."
     ]
    }
   ],
   "source": [
    "# GCN training loop \n",
    "epochs=10       # (10 epochs, or 20 depends on speed)\n",
    "\n",
    "def run_epoch_gcn(model, loader, g, split_dir, device, opt=None):\n",
    "    model.train(opt is not None)\n",
    "    total_loss, total, correct = 0.0, 0, 0\n",
    "    for input_nodes, pair_graph, blocks in loader:\n",
    "        if blocks and (blocks[0].device.type != torch.device(device).type):\n",
    "            blocks = [b.to(device) for b in blocks]\n",
    "        pair_graph = pair_graph.to(device) if pair_graph.device.type != torch.device(device).type else pair_graph\n",
    "\n",
    "        local_eids = pair_graph.edata[dgl.EID].cpu().numpy().astype(np.int64)\n",
    "        global_eids = g.edata[dgl.EID][torch.from_numpy(local_eids)].cpu().numpy().astype(np.int64)\n",
    "\n",
    "        x_edge_np = fetch_edge_features(global_eids, split_dir).astype(np.float32, copy=False)\n",
    "        x_edge = torch.from_numpy(x_edge_np).to(device)\n",
    "        # node features: constant or degrees; here constant via node_in=0\n",
    "        x_nodes = None\n",
    "\n",
    "        y = g.edata[\"y\"][torch.from_numpy(local_eids)].to(device)\n",
    "        keep = (y >= 0)\n",
    "        if not torch.all(keep):\n",
    "            y = y[keep]\n",
    "            x_edge = x_edge[keep.cpu().numpy()]\n",
    "            # re-build pair_graph subset (small overhead) or skip mini-batch:\n",
    "            # easiest is to skip batches with any -1 for baseline\n",
    "            if y.numel() == 0: \n",
    "                continue\n",
    "\n",
    "        logits = model(blocks, x_nodes, pair_graph, x_edge)\n",
    "        loss = criterion(logits, y)\n",
    "\n",
    "        if opt is not None:\n",
    "            opt.zero_grad()\n",
    "            loss.backward()\n",
    "            torch.nn.utils.clip_grad_norm_(model.parameters(), 1.0)\n",
    "            opt.step()\n",
    "\n",
    "        total_loss += loss.item() * y.size(0)\n",
    "        total += y.size(0)\n",
    "        correct += (logits.argmax(1) == y).sum().item()\n",
    "\n",
    "    return total_loss/max(total,1), correct/max(total,1)\n",
    "\n",
    "# Train 10 epochs (baseline)\n",
    "for epoch in range(1, epochs+1):\n",
    "    tr_loss, tr_acc = run_epoch_gcn(model_gcn, train_loader_gcn, g_train, FS_TRAIN, device, opt)\n",
    "    print(f\"Epoch {epoch} train loss={tr_loss:.4f} acc={tr_acc:.4f}\")"
   ]
  },
  {
   "cell_type": "markdown",
   "id": "a1cc61c0",
   "metadata": {},
   "source": [
    "## Evaluate GCN baseline"
   ]
  },
  {
   "cell_type": "code",
   "execution_count": null,
   "id": "9695de3c",
   "metadata": {},
   "outputs": [],
   "source": [
    "# Inference and metrics for GCN baseline\n",
    "y_true_gcn, y_pred_gcn, y_prob_gcn = infer_split(model_gcn, val_loader_gcn, g_val, device, fetch_edge_features)\n",
    "metrics_gcn = compute_metrics(y_true_gcn, y_pred_gcn, label2id)\n",
    "macro_precision = macro.get(\"precision\", None)\n",
    "macro_recall = macro.get(\"recall\", None)\n",
    "\n",
    "print(json.dumps({\n",
    "    \"model\":\"GCN\",\n",
    "    \"accuracy\": metrics_gcn[\"accuracy\"],\n",
    "    \"macro\": metrics_gcn[\"macro\"],\n",
    "    \"macro_FAR\": metrics_gcn[\"macro_FAR\"],\n",
    "}, indent=2))\n",
    "\n",
    "with open(\"artifacts/metrics_gcn.json\", \"w\", encoding=\"utf-8\") as f:\n",
    "    json.dump({\"model\": \"GCN\", \"metrics\": metrics_gcn}, f, indent=2, ensure_ascii=False)\n",
    "# Optional ROC / CM\n",
    "plot_roc_ovr(y_val, y_prob_gcn, classes, out_path=\"artifacts/gcn_roc_val.png\")"
   ]
  },
  {
   "cell_type": "markdown",
   "id": "bd5039ed",
   "metadata": {},
   "source": [
    "# Comparative results table"
   ]
  },
  {
   "cell_type": "code",
   "execution_count": null,
   "id": "b180337f",
   "metadata": {},
   "outputs": [],
   "source": [
    "# assemble comparison\n",
    "import pandas as pd\n",
    "\n",
    "rows = []\n",
    "def row_from_metrics(name, m):\n",
    "    macro = m[\"macro\"]; \n",
    "    return {\n",
    "        \"Model\": name,\n",
    "        \"Accuracy\": m[\"accuracy\"],\n",
    "        \"Macro Precision\": macro[\"precision\"],\n",
    "        \"Macro Recall\": macro[\"recall\"],\n",
    "        \"Macro F1\": macro[\"f1\"],\n",
    "        \"Macro FAR\": m.get(\"macro_FAR\", None),\n",
    "    }\n",
    "\n",
    "rows.append(row_from_metrics(\"XGBoost\", metrics_xgb))\n",
    "rows.append(row_from_metrics(\"GCN\", metrics_gcn))\n",
    "\n",
    "# Get SAGE metrics saved earlier as metrics_val.json:\n",
    "if os.path.exists(\"artifacts/metrics_val.json\"):\n",
    "    try:\n",
    "        with open(\"artifacts/metrics_val.json\",\"r\", encoding=\"utf-8\") as f:\n",
    "            raw = json.load(f)\n",
    "        # tolerate wrapper {\"model\":..., \"metrics\": {...}}\n",
    "        if isinstance(raw, dict) and \"metrics\" in raw and isinstance(raw[\"metrics\"], dict):\n",
    "            raw = raw[\"metrics\"]\n",
    "        # build a safe metrics dict with expected keys (fill missing with None)\n",
    "        safe = {\n",
    "            \"accuracy\": raw.get(\"accuracy\", None),\n",
    "            \"macro\": {\n",
    "                \"precision\": raw.get(\"macro\", {}).get(\"precision\", None),\n",
    "                \"recall\": raw.get(\"macro\", {}).get(\"recall\", None),\n",
    "                \"f1\": raw.get(\"macro\", {}).get(\"f1\", None),\n",
    "            },\n",
    "            \"macro_FAR\": raw.get(\"macro_FAR\", None)\n",
    "        }\n",
    "        rows.append(row_from_metrics(\"GraphSAGE\", safe))\n",
    "    except Exception as e:\n",
    "        print(f\"warning: could not load/normalize GraphSAGE metrics: {e}\")\n",
    "\n",
    "df_cmp = pd.DataFrame(rows)\n",
    "df_cmp = df_cmp[[\"Model\", \"Accuracy\", \"Macro Precision\", \"Macro Recall\", \"Macro F1\", \"Macro FAR\"]]\n",
    "display(df_cmp)\n",
    "\n",
    "# Save ready CSV\n",
    "os.makedirs(\"artifacts\", exist_ok=True)\n",
    "df_cmp.to_csv(\"artifacts/Results_comparison.csv\", index=False)\n",
    "# Save LaTeX table\n",
    "with open(\"artifacts/Results_comparison.tex\",\"w\") as f:\n",
    "    f.write(df_cmp.to_latex(index=False, float_format=\"%.4f\"))"
   ]
  }
 ],
 "metadata": {
  "kernelspec": {
   "display_name": ".venv",
   "language": "python",
   "name": "python3"
  },
  "language_info": {
   "codemirror_mode": {
    "name": "ipython",
    "version": 3
   },
   "file_extension": ".py",
   "mimetype": "text/x-python",
   "name": "python",
   "nbconvert_exporter": "python",
   "pygments_lexer": "ipython3",
   "version": "3.13.9"
  }
 },
 "nbformat": 4,
 "nbformat_minor": 5
}
